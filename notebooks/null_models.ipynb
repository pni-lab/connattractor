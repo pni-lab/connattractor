{
 "cells": [
  {
   "cell_type": "markdown",
   "id": "98026609",
   "metadata": {},
   "source": [
    "# An extended evaluation of the results with various null-modelling appoaches"
   ]
  },
  {
   "cell_type": "code",
   "execution_count": 1,
   "id": "ac2f9201",
   "metadata": {
    "ExecuteTime": {
     "end_time": "2023-10-24T11:10:05.775325Z",
     "start_time": "2023-10-24T11:10:05.746882Z"
    }
   },
   "outputs": [],
   "source": [
    "import sys\n",
    "sys.path.append('..')\n",
    "import numpy as np\n",
    "import pandas as pd\n",
    "import seaborn as sns\n",
    "import matplotlib.pyplot as plt\n",
    "import matplotlib\n",
    "matplotlib.rc_file_defaults()\n",
    "from sklearn.preprocessing import StandardScaler\n",
    "import nilearn\n",
    "from tqdm import tqdm\n",
    "from connattractor import network, analysis\n",
    "%load_ext autoreload\n",
    "%autoreload 1\n",
    "%aimport connattractor.network\n",
    "%aimport connattractor.analysis"
   ]
  },
  {
   "cell_type": "markdown",
   "id": "3efd92b0",
   "metadata": {},
   "source": [
    "## Fractional occupancy"
   ]
  },
  {
   "cell_type": "markdown",
   "id": "a6551312",
   "metadata": {},
   "source": [
    "### load empirical data"
   ]
  },
  {
   "cell_type": "code",
   "execution_count": 2,
   "id": "c4644726",
   "metadata": {},
   "outputs": [
    {
     "data": {
      "text/html": [
       "<div>\n",
       "<style scoped>\n",
       "    .dataframe tbody tr th:only-of-type {\n",
       "        vertical-align: middle;\n",
       "    }\n",
       "\n",
       "    .dataframe tbody tr th {\n",
       "        vertical-align: top;\n",
       "    }\n",
       "\n",
       "    .dataframe thead th {\n",
       "        text-align: right;\n",
       "    }\n",
       "</style>\n",
       "<table border=\"1\" class=\"dataframe\">\n",
       "  <thead>\n",
       "    <tr style=\"text-align: right;\">\n",
       "      <th></th>\n",
       "      <th>CER6_p</th>\n",
       "      <th>CER7ab</th>\n",
       "      <th>R_CERCR2_p</th>\n",
       "      <th>CER9_v</th>\n",
       "      <th>CER6_a</th>\n",
       "      <th>L_CERCR2_a</th>\n",
       "      <th>CER9_d</th>\n",
       "      <th>CER9_m</th>\n",
       "      <th>CER7b_m</th>\n",
       "      <th>L_CERCR2_p</th>\n",
       "      <th>...</th>\n",
       "      <th>LVISnet_vp</th>\n",
       "      <th>MVISnet_p</th>\n",
       "      <th>MVISnet_av</th>\n",
       "      <th>LVISnet_p</th>\n",
       "      <th>PVISnet_dm</th>\n",
       "      <th>PVISnet_vm</th>\n",
       "      <th>MVISnet_ad</th>\n",
       "      <th>VVISnet_l</th>\n",
       "      <th>LVISnet_DP</th>\n",
       "      <th>VVISnet_m</th>\n",
       "    </tr>\n",
       "  </thead>\n",
       "  <tbody>\n",
       "    <tr>\n",
       "      <th>0</th>\n",
       "      <td>1.000000</td>\n",
       "      <td>0.023502</td>\n",
       "      <td>0.136701</td>\n",
       "      <td>0.008193</td>\n",
       "      <td>0.074264</td>\n",
       "      <td>0.021580</td>\n",
       "      <td>0.170827</td>\n",
       "      <td>0.028969</td>\n",
       "      <td>0.015883</td>\n",
       "      <td>0.130981</td>\n",
       "      <td>...</td>\n",
       "      <td>-0.002248</td>\n",
       "      <td>-0.008683</td>\n",
       "      <td>0.000152</td>\n",
       "      <td>0.035482</td>\n",
       "      <td>0.007705</td>\n",
       "      <td>-0.029055</td>\n",
       "      <td>0.009439</td>\n",
       "      <td>-0.001390</td>\n",
       "      <td>0.009582</td>\n",
       "      <td>0.007318</td>\n",
       "    </tr>\n",
       "    <tr>\n",
       "      <th>1</th>\n",
       "      <td>0.023502</td>\n",
       "      <td>1.000000</td>\n",
       "      <td>0.008167</td>\n",
       "      <td>0.024126</td>\n",
       "      <td>0.046648</td>\n",
       "      <td>0.050263</td>\n",
       "      <td>0.010915</td>\n",
       "      <td>0.070042</td>\n",
       "      <td>0.085829</td>\n",
       "      <td>-0.018248</td>\n",
       "      <td>...</td>\n",
       "      <td>0.033791</td>\n",
       "      <td>0.004000</td>\n",
       "      <td>0.011493</td>\n",
       "      <td>0.007582</td>\n",
       "      <td>-0.026080</td>\n",
       "      <td>0.008013</td>\n",
       "      <td>-0.009007</td>\n",
       "      <td>0.009144</td>\n",
       "      <td>0.001391</td>\n",
       "      <td>0.012831</td>\n",
       "    </tr>\n",
       "    <tr>\n",
       "      <th>2</th>\n",
       "      <td>0.136701</td>\n",
       "      <td>0.008167</td>\n",
       "      <td>1.000000</td>\n",
       "      <td>0.005056</td>\n",
       "      <td>0.062669</td>\n",
       "      <td>0.028488</td>\n",
       "      <td>0.041643</td>\n",
       "      <td>0.045169</td>\n",
       "      <td>0.112164</td>\n",
       "      <td>0.157129</td>\n",
       "      <td>...</td>\n",
       "      <td>-0.003300</td>\n",
       "      <td>0.016258</td>\n",
       "      <td>-0.011801</td>\n",
       "      <td>-0.001794</td>\n",
       "      <td>-0.000603</td>\n",
       "      <td>0.012350</td>\n",
       "      <td>-0.002757</td>\n",
       "      <td>-0.004949</td>\n",
       "      <td>-0.004858</td>\n",
       "      <td>-0.000633</td>\n",
       "    </tr>\n",
       "    <tr>\n",
       "      <th>3</th>\n",
       "      <td>0.008193</td>\n",
       "      <td>0.024126</td>\n",
       "      <td>0.005056</td>\n",
       "      <td>1.000000</td>\n",
       "      <td>-0.020494</td>\n",
       "      <td>-0.008721</td>\n",
       "      <td>-0.004522</td>\n",
       "      <td>0.203525</td>\n",
       "      <td>-0.003757</td>\n",
       "      <td>0.019182</td>\n",
       "      <td>...</td>\n",
       "      <td>0.021645</td>\n",
       "      <td>0.000472</td>\n",
       "      <td>-0.003774</td>\n",
       "      <td>0.003395</td>\n",
       "      <td>-0.032710</td>\n",
       "      <td>-0.015305</td>\n",
       "      <td>0.007360</td>\n",
       "      <td>0.004044</td>\n",
       "      <td>-0.011696</td>\n",
       "      <td>-0.001293</td>\n",
       "    </tr>\n",
       "    <tr>\n",
       "      <th>4</th>\n",
       "      <td>0.074264</td>\n",
       "      <td>0.046648</td>\n",
       "      <td>0.062669</td>\n",
       "      <td>-0.020494</td>\n",
       "      <td>1.000000</td>\n",
       "      <td>0.080293</td>\n",
       "      <td>0.024584</td>\n",
       "      <td>0.002491</td>\n",
       "      <td>-0.021720</td>\n",
       "      <td>0.042291</td>\n",
       "      <td>...</td>\n",
       "      <td>-0.020753</td>\n",
       "      <td>0.005295</td>\n",
       "      <td>-0.012844</td>\n",
       "      <td>-0.014833</td>\n",
       "      <td>0.009989</td>\n",
       "      <td>0.024167</td>\n",
       "      <td>-0.005186</td>\n",
       "      <td>-0.016061</td>\n",
       "      <td>0.010920</td>\n",
       "      <td>-0.007650</td>\n",
       "    </tr>\n",
       "    <tr>\n",
       "      <th>...</th>\n",
       "      <td>...</td>\n",
       "      <td>...</td>\n",
       "      <td>...</td>\n",
       "      <td>...</td>\n",
       "      <td>...</td>\n",
       "      <td>...</td>\n",
       "      <td>...</td>\n",
       "      <td>...</td>\n",
       "      <td>...</td>\n",
       "      <td>...</td>\n",
       "      <td>...</td>\n",
       "      <td>...</td>\n",
       "      <td>...</td>\n",
       "      <td>...</td>\n",
       "      <td>...</td>\n",
       "      <td>...</td>\n",
       "      <td>...</td>\n",
       "      <td>...</td>\n",
       "      <td>...</td>\n",
       "      <td>...</td>\n",
       "      <td>...</td>\n",
       "    </tr>\n",
       "    <tr>\n",
       "      <th>117</th>\n",
       "      <td>-0.029055</td>\n",
       "      <td>0.008013</td>\n",
       "      <td>0.012350</td>\n",
       "      <td>-0.015305</td>\n",
       "      <td>0.024167</td>\n",
       "      <td>-0.007512</td>\n",
       "      <td>0.045950</td>\n",
       "      <td>0.010056</td>\n",
       "      <td>-0.006412</td>\n",
       "      <td>-0.000421</td>\n",
       "      <td>...</td>\n",
       "      <td>0.011186</td>\n",
       "      <td>0.215436</td>\n",
       "      <td>-0.011083</td>\n",
       "      <td>-0.003814</td>\n",
       "      <td>0.163692</td>\n",
       "      <td>1.000000</td>\n",
       "      <td>0.013773</td>\n",
       "      <td>0.049101</td>\n",
       "      <td>-0.028493</td>\n",
       "      <td>0.115196</td>\n",
       "    </tr>\n",
       "    <tr>\n",
       "      <th>118</th>\n",
       "      <td>0.009439</td>\n",
       "      <td>-0.009007</td>\n",
       "      <td>-0.002757</td>\n",
       "      <td>0.007360</td>\n",
       "      <td>-0.005186</td>\n",
       "      <td>-0.023476</td>\n",
       "      <td>-0.004195</td>\n",
       "      <td>-0.029927</td>\n",
       "      <td>-0.023948</td>\n",
       "      <td>-0.023841</td>\n",
       "      <td>...</td>\n",
       "      <td>-0.012657</td>\n",
       "      <td>0.258308</td>\n",
       "      <td>0.091981</td>\n",
       "      <td>0.007686</td>\n",
       "      <td>-0.001867</td>\n",
       "      <td>0.013773</td>\n",
       "      <td>1.000000</td>\n",
       "      <td>-0.013407</td>\n",
       "      <td>0.017465</td>\n",
       "      <td>0.032366</td>\n",
       "    </tr>\n",
       "    <tr>\n",
       "      <th>119</th>\n",
       "      <td>-0.001390</td>\n",
       "      <td>0.009144</td>\n",
       "      <td>-0.004949</td>\n",
       "      <td>0.004044</td>\n",
       "      <td>-0.016061</td>\n",
       "      <td>0.004057</td>\n",
       "      <td>0.002311</td>\n",
       "      <td>-0.022643</td>\n",
       "      <td>0.001888</td>\n",
       "      <td>-0.007811</td>\n",
       "      <td>...</td>\n",
       "      <td>0.139682</td>\n",
       "      <td>-0.014010</td>\n",
       "      <td>0.077810</td>\n",
       "      <td>0.079338</td>\n",
       "      <td>0.055300</td>\n",
       "      <td>0.049101</td>\n",
       "      <td>-0.013407</td>\n",
       "      <td>1.000000</td>\n",
       "      <td>0.081084</td>\n",
       "      <td>0.162297</td>\n",
       "    </tr>\n",
       "    <tr>\n",
       "      <th>120</th>\n",
       "      <td>0.009582</td>\n",
       "      <td>0.001391</td>\n",
       "      <td>-0.004858</td>\n",
       "      <td>-0.011696</td>\n",
       "      <td>0.010920</td>\n",
       "      <td>0.002928</td>\n",
       "      <td>-0.001322</td>\n",
       "      <td>0.004114</td>\n",
       "      <td>-0.006720</td>\n",
       "      <td>-0.008002</td>\n",
       "      <td>...</td>\n",
       "      <td>0.066451</td>\n",
       "      <td>0.001324</td>\n",
       "      <td>-0.001214</td>\n",
       "      <td>0.115287</td>\n",
       "      <td>0.089609</td>\n",
       "      <td>-0.028493</td>\n",
       "      <td>0.017465</td>\n",
       "      <td>0.081084</td>\n",
       "      <td>1.000000</td>\n",
       "      <td>0.000165</td>\n",
       "    </tr>\n",
       "    <tr>\n",
       "      <th>121</th>\n",
       "      <td>0.007318</td>\n",
       "      <td>0.012831</td>\n",
       "      <td>-0.000633</td>\n",
       "      <td>-0.001293</td>\n",
       "      <td>-0.007650</td>\n",
       "      <td>0.026176</td>\n",
       "      <td>-0.012108</td>\n",
       "      <td>-0.008898</td>\n",
       "      <td>-0.002792</td>\n",
       "      <td>-0.002899</td>\n",
       "      <td>...</td>\n",
       "      <td>0.024625</td>\n",
       "      <td>0.088237</td>\n",
       "      <td>0.171533</td>\n",
       "      <td>0.016583</td>\n",
       "      <td>0.043844</td>\n",
       "      <td>0.115196</td>\n",
       "      <td>0.032366</td>\n",
       "      <td>0.162297</td>\n",
       "      <td>0.000165</td>\n",
       "      <td>1.000000</td>\n",
       "    </tr>\n",
       "  </tbody>\n",
       "</table>\n",
       "<p>122 rows × 122 columns</p>\n",
       "</div>"
      ],
      "text/plain": [
       "       CER6_p    CER7ab  R_CERCR2_p    CER9_v    CER6_a  L_CERCR2_a    CER9_d  \\\n",
       "0    1.000000  0.023502    0.136701  0.008193  0.074264    0.021580  0.170827   \n",
       "1    0.023502  1.000000    0.008167  0.024126  0.046648    0.050263  0.010915   \n",
       "2    0.136701  0.008167    1.000000  0.005056  0.062669    0.028488  0.041643   \n",
       "3    0.008193  0.024126    0.005056  1.000000 -0.020494   -0.008721 -0.004522   \n",
       "4    0.074264  0.046648    0.062669 -0.020494  1.000000    0.080293  0.024584   \n",
       "..        ...       ...         ...       ...       ...         ...       ...   \n",
       "117 -0.029055  0.008013    0.012350 -0.015305  0.024167   -0.007512  0.045950   \n",
       "118  0.009439 -0.009007   -0.002757  0.007360 -0.005186   -0.023476 -0.004195   \n",
       "119 -0.001390  0.009144   -0.004949  0.004044 -0.016061    0.004057  0.002311   \n",
       "120  0.009582  0.001391   -0.004858 -0.011696  0.010920    0.002928 -0.001322   \n",
       "121  0.007318  0.012831   -0.000633 -0.001293 -0.007650    0.026176 -0.012108   \n",
       "\n",
       "       CER9_m   CER7b_m  L_CERCR2_p  ...  LVISnet_vp  MVISnet_p  MVISnet_av  \\\n",
       "0    0.028969  0.015883    0.130981  ...   -0.002248  -0.008683    0.000152   \n",
       "1    0.070042  0.085829   -0.018248  ...    0.033791   0.004000    0.011493   \n",
       "2    0.045169  0.112164    0.157129  ...   -0.003300   0.016258   -0.011801   \n",
       "3    0.203525 -0.003757    0.019182  ...    0.021645   0.000472   -0.003774   \n",
       "4    0.002491 -0.021720    0.042291  ...   -0.020753   0.005295   -0.012844   \n",
       "..        ...       ...         ...  ...         ...        ...         ...   \n",
       "117  0.010056 -0.006412   -0.000421  ...    0.011186   0.215436   -0.011083   \n",
       "118 -0.029927 -0.023948   -0.023841  ...   -0.012657   0.258308    0.091981   \n",
       "119 -0.022643  0.001888   -0.007811  ...    0.139682  -0.014010    0.077810   \n",
       "120  0.004114 -0.006720   -0.008002  ...    0.066451   0.001324   -0.001214   \n",
       "121 -0.008898 -0.002792   -0.002899  ...    0.024625   0.088237    0.171533   \n",
       "\n",
       "     LVISnet_p  PVISnet_dm  PVISnet_vm  MVISnet_ad  VVISnet_l  LVISnet_DP  \\\n",
       "0     0.035482    0.007705   -0.029055    0.009439  -0.001390    0.009582   \n",
       "1     0.007582   -0.026080    0.008013   -0.009007   0.009144    0.001391   \n",
       "2    -0.001794   -0.000603    0.012350   -0.002757  -0.004949   -0.004858   \n",
       "3     0.003395   -0.032710   -0.015305    0.007360   0.004044   -0.011696   \n",
       "4    -0.014833    0.009989    0.024167   -0.005186  -0.016061    0.010920   \n",
       "..         ...         ...         ...         ...        ...         ...   \n",
       "117  -0.003814    0.163692    1.000000    0.013773   0.049101   -0.028493   \n",
       "118   0.007686   -0.001867    0.013773    1.000000  -0.013407    0.017465   \n",
       "119   0.079338    0.055300    0.049101   -0.013407   1.000000    0.081084   \n",
       "120   0.115287    0.089609   -0.028493    0.017465   0.081084    1.000000   \n",
       "121   0.016583    0.043844    0.115196    0.032366   0.162297    0.000165   \n",
       "\n",
       "     VVISnet_m  \n",
       "0     0.007318  \n",
       "1     0.012831  \n",
       "2    -0.000633  \n",
       "3    -0.001293  \n",
       "4    -0.007650  \n",
       "..         ...  \n",
       "117   0.115196  \n",
       "118   0.032366  \n",
       "119   0.162297  \n",
       "120   0.000165  \n",
       "121   1.000000  \n",
       "\n",
       "[122 rows x 122 columns]"
      ]
     },
     "execution_count": 2,
     "metadata": {},
     "output_type": "execute_result"
    }
   ],
   "source": [
    "connfile = '../data_in/ex_connectome_partial_correlation.csv'\n",
    "\n",
    "mtx = pd.read_csv(connfile).iloc[:, 1:]\n",
    "mtx"
   ]
  },
  {
   "cell_type": "code",
   "execution_count": 3,
   "id": "63f9e9e0",
   "metadata": {
    "ExecuteTime": {
     "end_time": "2023-10-24T11:10:11.722924Z",
     "start_time": "2023-10-24T11:10:10.220489Z"
    }
   },
   "outputs": [
    {
     "name": "stdout",
     "output_type": "stream",
     "text": [
      "perc. scrubbed: 0.515\n"
     ]
    }
   ],
   "source": [
    "import os\n",
    "# load resting state data\n",
    "_fd_thr = 0.15\n",
    "_perc_scrub_thr = 0.5\n",
    "\n",
    "# load data\n",
    "from glob import glob\n",
    "all_ts = []\n",
    "root_dir = '../data_in/ex_timeseries/'\n",
    "for f in glob(root_dir + 'bochum-???.tsv'):\n",
    "    path, filename = os.path.split(f)\n",
    "    ts = pd.read_csv(f, sep='\\t').iloc[:, 1:].values\n",
    "    ts = StandardScaler().fit_transform(ts)\n",
    "    fd = pd.read_csv(path + '/FD_' + os.path.splitext(filename)[0] + '.txt', sep=',').values.flatten()\n",
    "    fd = np.hstack(([0], fd))\n",
    "\n",
    "    if np.sum(fd>_fd_thr)/len(fd) < _perc_scrub_thr:\n",
    "        all_ts.append(ts[fd<_fd_thr])\n",
    "    else:\n",
    "        print('perc. scrubbed:', np.sum(fd>_fd_thr)/len(fd))\n",
    "\n",
    "all_ts = np.vstack([i for i in all_ts])"
   ]
  },
  {
   "cell_type": "markdown",
   "id": "623fbd52",
   "metadata": {},
   "source": [
    "### fcHNN"
   ]
  },
  {
   "cell_type": "code",
   "execution_count": 4,
   "id": "5c70216a",
   "metadata": {
    "ExecuteTime": {
     "end_time": "2023-10-24T11:10:07.464113Z",
     "start_time": "2023-10-24T11:10:06.904433Z"
    }
   },
   "outputs": [
    {
     "name": "stderr",
     "output_type": "stream",
     "text": [
      "  0%|          | 82/100000 [00:00<02:02, 818.88it/s]"
     ]
    },
    {
     "name": "stderr",
     "output_type": "stream",
     "text": [
      "100%|██████████| 100000/100000 [00:18<00:00, 5291.04it/s]\n",
      "100%|██████████| 7200/7200 [03:55<00:00, 30.57it/s]\n",
      "100%|██████████| 100000/100000 [00:25<00:00, 3853.78it/s]\n",
      "100%|██████████| 7200/7200 [03:57<00:00, 30.27it/s]\n",
      "100%|██████████| 100000/100000 [00:20<00:00, 4910.08it/s]\n",
      "100%|██████████| 7200/7200 [03:48<00:00, 31.56it/s]\n",
      "100%|██████████| 100000/100000 [00:22<00:00, 4453.41it/s]\n",
      "100%|██████████| 7200/7200 [05:11<00:00, 23.10it/s]\n",
      "100%|██████████| 100000/100000 [00:25<00:00, 3895.00it/s]\n",
      "100%|██████████| 7200/7200 [06:58<00:00, 17.20it/s]\n",
      "100%|██████████| 100000/100000 [00:25<00:00, 3909.72it/s]\n",
      "100%|██████████| 7200/7200 [06:35<00:00, 18.20it/s]\n",
      "100%|██████████| 100000/100000 [00:21<00:00, 4731.94it/s]\n",
      "100%|██████████| 7200/7200 [06:34<00:00, 18.25it/s]\n",
      "100%|██████████| 100000/100000 [00:21<00:00, 4720.55it/s]\n",
      "100%|██████████| 7200/7200 [06:33<00:00, 18.28it/s]\n"
     ]
    }
   ],
   "source": [
    "simresults_all = {}\n",
    "hopfield_embeddings_all = {}\n",
    "\n",
    "for noise in np.round(np.logspace(-1, 0, 8), 2):\n",
    "    simresults_all[noise] = analysis.simulate_activations(mtx.values, noise_coef=noise, \n",
    "                                                          num_iter=100000, beta=0.04, random_state=2023)\n",
    "    hopfield_embeddings_all[noise] = analysis.create_embeddings(simresults_all[noise], \n",
    "                                                                attractor_sample=len(all_ts),random_state=2023)"
   ]
  },
  {
   "cell_type": "code",
   "execution_count": 6,
   "id": "0c8b2c51",
   "metadata": {
    "ExecuteTime": {
     "end_time": "2023-10-24T11:33:15.952423Z",
     "start_time": "2023-10-24T11:10:12.680652Z"
    }
   },
   "outputs": [
    {
     "name": "stderr",
     "output_type": "stream",
     "text": [
      "100%|██████████| 7200/7200 [06:17<00:00, 19.07it/s]\n",
      "100%|██████████| 7200/7200 [06:56<00:00, 17.30it/s]\n",
      "100%|██████████| 7200/7200 [06:49<00:00, 17.58it/s]\n",
      "100%|██████████| 7200/7200 [06:17<00:00, 19.09it/s]\n",
      "100%|██████████| 7200/7200 [06:17<00:00, 19.09it/s]\n",
      "100%|██████████| 7200/7200 [06:15<00:00, 19.15it/s]\n",
      "100%|██████████| 7200/7200 [06:16<00:00, 19.10it/s]\n",
      "100%|██████████| 7200/7200 [07:40<00:00, 15.65it/s]\n"
     ]
    }
   ],
   "source": [
    "# time spent in state\n",
    "emp_attractor_states = {}\n",
    "for noise in np.round(np.logspace(-1, 0, 8), 2):\n",
    "    tmp = []\n",
    "    for s in tqdm(range(all_ts.shape[0])):\n",
    "        tmp.append(hopfield_embeddings_all[noise].hopnet.update(all_ts[s, :])[0])\n",
    "    emp_attractor_states[noise] = np.array(tmp)"
   ]
  },
  {
   "cell_type": "code",
   "execution_count": 21,
   "id": "0a5d7ad6",
   "metadata": {},
   "outputs": [
    {
     "data": {
      "text/plain": [
       "(100000, 122)"
      ]
     },
     "execution_count": 21,
     "metadata": {},
     "output_type": "execute_result"
    }
   ],
   "source": [
    "simresults_all[0.37].states.shape\n"
   ]
  },
  {
   "cell_type": "code",
   "execution_count": 7,
   "id": "ec493776",
   "metadata": {},
   "outputs": [],
   "source": [
    "emp_attractor_labels = {}\n",
    "for noise in np.round(np.logspace(-1, 0, 8), 2):\n",
    "    emp_attractor_labels[noise] = []\n",
    "    for i in range(emp_attractor_states[noise].shape[0]):\n",
    "        for key in hopfield_embeddings_all[noise].attractors.keys():\n",
    "            #print(hopfield_embeddings_all[noise].attractors[key], emp_attractor_states[noise][i,:])\n",
    "            if np.allclose(hopfield_embeddings_all[noise].attractors[key], emp_attractor_states[noise][i,:], atol=0.001):\n",
    "                emp_attractor_labels[noise].append(key)\n",
    "                "
   ]
  },
  {
   "cell_type": "markdown",
   "id": "eadf79c8",
   "metadata": {},
   "source": [
    "## Now we use a phase randomized null model to generate a null-distribution for occupancy-similarity"
   ]
  },
  {
   "cell_type": "code",
   "execution_count": 18,
   "id": "774cee15",
   "metadata": {
    "ExecuteTime": {
     "end_time": "2023-10-24T11:47:19.850738Z",
     "start_time": "2023-10-24T11:45:46.925595Z"
    }
   },
   "outputs": [
    {
     "name": "stdout",
     "output_type": "stream",
     "text": [
      "noise: 0.1 : no multistability\n",
      "noise: 0.14 : no multistability\n",
      "noise: 0.19 : no multistability\n",
      "noise: 0.27 stat: 852.3019025383169  p = 1.0\n"
     ]
    },
    {
     "data": {
      "image/png": "[encoded data removed]",
      "text/plain": [
       "<Figure size 200x200 with 1 Axes>"
      ]
     },
     "metadata": {},
     "output_type": "display_data"
    },
    {
     "name": "stdout",
     "output_type": "stream",
     "text": [
      "noise: 0.37 stat: 21.565370837595296  p = 0.0\n"
     ]
    },
    {
     "data": {
      "image/png": "[encoded data removed]",
      "text/plain": [
       "<Figure size 200x200 with 1 Axes>"
      ]
     },
     "metadata": {},
     "output_type": "display_data"
    },
    {
     "name": "stdout",
     "output_type": "stream",
     "text": [
      "noise: 0.52 stat: 11.15915695780814  p = 0.0\n"
     ]
    },
    {
     "data": {
      "image/png": "[encoded data removed]",
      "text/plain": [
       "<Figure size 200x200 with 1 Axes>"
      ]
     },
     "metadata": {},
     "output_type": "display_data"
    },
    {
     "name": "stdout",
     "output_type": "stream",
     "text": [
      "noise: 0.72 stat: 19.9599484603988  p = 0.0\n"
     ]
    },
    {
     "data": {
      "image/png": "[encoded data removed]",
      "text/plain": [
       "<Figure size 200x200 with 1 Axes>"
      ]
     },
     "metadata": {},
     "output_type": "display_data"
    },
    {
     "name": "stdout",
     "output_type": "stream",
     "text": [
      "noise: 1.0 stat: 35.95363284185499  p = 0.0\n"
     ]
    },
    {
     "data": {
      "image/png": "[encoded data removed]",
      "text/plain": [
       "<Figure size 200x200 with 1 Axes>"
      ]
     },
     "metadata": {},
     "output_type": "display_data"
    }
   ],
   "source": [
    "random = np.random.default_rng(42)\n",
    "\n",
    "def phase_randomization(data):\n",
    "    # Get the shape of the data\n",
    "    num_samples, num_features = data.shape \n",
    "    # Create a copy of the data\n",
    "    randomized_data = np.copy(data)\n",
    "    # Iterate over each time-frame\n",
    "    for i in range(num_samples):\n",
    "        data = randomized_data[i, :]\n",
    "        fft_data = np.fft.fft(data)\n",
    "        phase = random.permutation(np.angle(fft_data)) # same perm for all region\n",
    "        randomized_data[i, :] = np.real(np.fft.ifft(np.abs(fft_data) * np.exp(1j * phase)))\n",
    "    \n",
    "    return randomized_data\n",
    "\n",
    "from scipy.stats import chisquare\n",
    "\n",
    "n_perm =1000\n",
    "\n",
    "for noise in np.round(np.logspace(-1, 0, 8), 2):\n",
    "   \n",
    "\n",
    "    # simulated\n",
    "    sim_attractor_states = hopfield_embeddings_all[noise].attractor_sample\n",
    "    label_sim, counts_sim = np.unique(sim_attractor_states, return_counts=True)\n",
    "    if len(counts_sim)==1:\n",
    "        print('noise:', noise, ': not heteroclinic')\n",
    "        continue\n",
    "    # empirical\n",
    "    label_emp, counts_emp = np.unique(emp_attractor_labels[noise], return_counts=True)\n",
    "    if len(counts_emp)==1:\n",
    "        print('noise:', noise, ': not heteroclinic')\n",
    "        continue\n",
    "    true_test_stat = chisquare(counts_sim, counts_emp).statistic\n",
    "   \n",
    "    # null distribution for empirical\n",
    "    test_stat_null = []\n",
    "    for i in range(n_perm):\n",
    "        \n",
    "        all_ts_phaserand = phase_randomization(all_ts)\n",
    "        \n",
    "        embedded = hopfield_embeddings_all[noise].embedding_model.transform(all_ts_phaserand)[:, :2]\n",
    "        attractor_labels = hopfield_embeddings_all[noise].attractor_model.predict(embedded)\n",
    "        label_emp_shuffled, counts_emp_shuffled = np.unique(attractor_labels, return_counts=True)\n",
    "        test_stat_null.append(chisquare(counts_sim, counts_emp_shuffled).statistic) # does this differ from empirical data?\n",
    "    plt.figure(figsize=(2,2))\n",
    "    sns.histplot(test_stat_null)\n",
    "    plt.axvline(true_test_stat, color='red')\n",
    "    print('noise:', noise, 'stat:', true_test_stat, ' p =', np.sum(np.array(test_stat_null) < true_test_stat) / n_perm)\n",
    "    plt.show()"
   ]
  },
  {
   "cell_type": "markdown",
   "id": "de68b45a",
   "metadata": {},
   "source": [
    "### Fractional occupancy is predicted for real data significantly better then for spatially phase randomized null data"
   ]
  },
  {
   "cell_type": "markdown",
   "id": "cf9fad06",
   "metadata": {},
   "source": [
    "## Another null model: sampling from a multivariate normal."
   ]
  },
  {
   "cell_type": "code",
   "execution_count": 20,
   "id": "a50129d8",
   "metadata": {},
   "outputs": [
    {
     "name": "stdout",
     "output_type": "stream",
     "text": [
      "noise: 0.1 : not heteroclinic\n",
      "noise: 0.14 : not heteroclinic\n",
      "noise: 0.19 : not heteroclinic\n",
      "noise: 0.27 stat: 852.3019025383169  p = 1.0\n"
     ]
    },
    {
     "data": {
      "image/png": "[encoded data removed]",
      "text/plain": [
       "<Figure size 200x200 with 1 Axes>"
      ]
     },
     "metadata": {},
     "output_type": "display_data"
    },
    {
     "name": "stdout",
     "output_type": "stream",
     "text": [
      "noise: 0.37 stat: 21.565370837595296  p = 0.007\n"
     ]
    },
    {
     "data": {
      "image/png": "[encoded data removed]",
      "text/plain": [
       "<Figure size 200x200 with 1 Axes>"
      ]
     },
     "metadata": {},
     "output_type": "display_data"
    },
    {
     "name": "stdout",
     "output_type": "stream",
     "text": [
      "noise: 0.52 stat: 11.15915695780814  p = 0.015\n"
     ]
    },
    {
     "data": {
      "image/png": "[encoded data removed]",
      "text/plain": [
       "<Figure size 200x200 with 1 Axes>"
      ]
     },
     "metadata": {},
     "output_type": "display_data"
    },
    {
     "name": "stdout",
     "output_type": "stream",
     "text": [
      "noise: 0.72 stat: 19.9599484603988  p = 0.719\n"
     ]
    },
    {
     "data": {
      "image/png": "[encoded data removed]",
      "text/plain": [
       "<Figure size 200x200 with 1 Axes>"
      ]
     },
     "metadata": {},
     "output_type": "display_data"
    },
    {
     "name": "stdout",
     "output_type": "stream",
     "text": [
      "noise: 1.0 stat: 35.95363284185499  p = 0.999\n"
     ]
    },
    {
     "data": {
      "image/png": "[encoded data removed]",
      "text/plain": [
       "<Figure size 200x200 with 1 Axes>"
      ]
     },
     "metadata": {},
     "output_type": "display_data"
    }
   ],
   "source": [
    "random = np.random.default_rng(42)\n",
    "\n",
    "connfile = '../data_in/ex_connectome_partial_correlation.csv'\n",
    "mtx = pd.read_csv(connfile).iloc[:, 1:]\n",
    "\n",
    "from scipy.stats import chisquare\n",
    "\n",
    "n_perm =1000\n",
    "\n",
    "for noise in np.round(np.logspace(-1, 0, 8), 2):\n",
    "   \n",
    "    # simulated\n",
    "    sim_states = hopfield_embeddings_all[noise].state_sample\n",
    "    sim_embedded = hopfield_embeddings_all[noise].embedding_model.transform(sim_states)[:, :2]\n",
    "    sim_attractor_states = hopfield_embeddings_all[noise].attractor_sample\n",
    "    label_sim, counts_sim = np.unique(sim_attractor_states, return_counts=True)\n",
    "    if len(counts_sim)==1:\n",
    "        print('noise:', noise, ': not heteroclinic')\n",
    "        continue\n",
    "    \n",
    "    label_emp, counts_emp = np.unique(emp_attractor_labels[noise], return_counts=True)\n",
    "    true_test_stat = chisquare(counts_sim, counts_emp).statistic # the higher the stat the bigger the diff\n",
    "   \n",
    "    # null distribution for simulated\n",
    "    test_stat_null = []\n",
    "    for i in range(n_perm):\n",
    "        \n",
    "        all_ts_multivariate_normal = random.multivariate_normal(mean=np.repeat(0, mtx.shape[0]), \n",
    "                                                                cov=mtx.values, \n",
    "                                                                size=all_ts.shape[0])\n",
    "        \n",
    "        embedded = hopfield_embeddings_all[noise].embedding_model.transform(all_ts_multivariate_normal)[:, :2]\n",
    "        # multivariate normal knows about the mean and std of the original distribution\n",
    "        # we must give equal chances: rescale it to have the same range as the fcHNN simulated data\n",
    "        embedded = (((embedded-np.mean(embedded)) / np.std(embedded)) * np.std(sim_embedded))+ np.mean(sim_embedded)\n",
    "        attractor_labels = hopfield_embeddings_all[noise].attractor_model.predict(embedded)\n",
    "        label_sim_null, counts_sim_null = np.unique(attractor_labels, return_counts=True)\n",
    "        test_stat_null.append(chisquare(counts_sim_null, counts_emp).statistic) # does this differ from empirical data?\n",
    "    \n",
    "    plt.figure(figsize=(2,2))\n",
    "    sns.histplot(test_stat_null)\n",
    "    plt.axvline(true_test_stat, color='red')\n",
    "    print('noise:', noise, 'stat:', true_test_stat, ' p =', np.sum(np.array(test_stat_null) < true_test_stat) / n_perm)\n",
    "    plt.show()"
   ]
  },
  {
   "cell_type": "markdown",
   "id": "917eef5c",
   "metadata": {},
   "source": [
    "### Fractional occupancy is predicted significantly better by fcHNN then by multivariate normal null data (with the functional covariance matrix) in case of sigma=0.37 and 0.52.\n",
    "\n",
    "We choose sigma=0.37, which provides the best fit to the data."
   ]
  },
  {
   "cell_type": "code",
   "execution_count": null,
   "id": "7d2a644c",
   "metadata": {},
   "outputs": [],
   "source": []
  }
 ],
 "metadata": {
  "hide_input": false,
  "kernelspec": {
   "display_name": "Python 3 (ipykernel)",
   "language": "python",
   "name": "python3"
  },
  "language_info": {
   "codemirror_mode": {
    "name": "ipython",
    "version": 3
   },
   "file_extension": ".py",
   "mimetype": "text/x-python",
   "name": "python",
   "nbconvert_exporter": "python",
   "pygments_lexer": "ipython3",
   "version": "3.9.6"
  }
 },
 "nbformat": 4,
 "nbformat_minor": 5
}
